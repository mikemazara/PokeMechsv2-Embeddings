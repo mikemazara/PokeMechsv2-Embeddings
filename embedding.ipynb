{
  "cells": [
    {
      "cell_type": "code",
      "execution_count": 4,
      "metadata": {},
      "outputs": [
        {
          "name": "stdout",
          "output_type": "stream",
          "text": [
            "env: GOOGLE_APPLICATION_CREDENTIALS=/Users/mike/.gcp-keys/pokemechs-84c9b2aac2f8.json\n"
          ]
        }
      ],
      "source": [
        "import pandas as pd\n",
        "\n",
        "%env GOOGLE_APPLICATION_CREDENTIALS=/Users/mike/.gcp-keys/pokemechs-84c9b2aac2f8.json"
      ]
    },
    {
      "cell_type": "code",
      "execution_count": 3,
      "metadata": {},
      "outputs": [],
      "source": [
        "\n",
        "from typing import List, Optional\n",
        "\n",
        "from vertexai.language_models import TextEmbeddingInput, TextEmbeddingModel\n",
        "\n"
      ]
    },
    {
      "cell_type": "code",
      "execution_count": 4,
      "metadata": {},
      "outputs": [],
      "source": [
        "def embed_text(\n",
        "    texts: List[str],\n",
        "    task: str = \"RETRIEVAL_DOCUMENT\",\n",
        "    model_name: str = \"text-embedding-004\",\n",
        "    dimensionality: Optional[int] = 256,\n",
        ") -> List[List[float]]:\n",
        "    \"\"\"Embeds texts with a pre-trained, foundational model.\"\"\"\n",
        "    model = TextEmbeddingModel.from_pretrained(model_name)\n",
        "    inputs = [TextEmbeddingInput(text, task) for text in texts]\n",
        "    kwargs = dict(output_dimensionality=dimensionality) if dimensionality else {}\n",
        "    embeddings = model.get_embeddings(inputs, **kwargs)\n",
        "    return [embedding.values for embedding in embeddings]\n"
      ]
    },
    {
      "cell_type": "code",
      "execution_count": 5,
      "metadata": {},
      "outputs": [],
      "source": [
        "\n",
        "filename = './manuals/Subaru-outback-starter-and-generater/Subaru_Legacy_Outback_starter-generater.md'\n",
        "with open(filename, 'r') as fd:\n",
        "    text = fd.read()\n",
        "\n"
      ]
    },
    {
      "cell_type": "code",
      "execution_count": 6,
      "metadata": {},
      "outputs": [],
      "source": [
        "split_texts = text.split('\\n## ')"
      ]
    },
    {
      "cell_type": "code",
      "execution_count": 7,
      "metadata": {},
      "outputs": [],
      "source": [
        "\n",
        "split_text_with_identifier = []\n",
        "\n",
        "for i in split_texts:\n",
        "    text_identifier = \"Alternator/Starter\"\n",
        "    modified_text = f\"## {text_identifier}\\n{i}\"\n",
        "    split_text_with_identifier.append(modified_text)\n"
      ]
    },
    {
      "cell_type": "code",
      "execution_count": 8,
      "metadata": {},
      "outputs": [],
      "source": [
        "embedded_test = embed_text([text])"
      ]
    },
    {
      "cell_type": "code",
      "execution_count": 9,
      "metadata": {},
      "outputs": [],
      "source": [
        "import json\n",
        "\n",
        "\n",
        "output_filename = './manuals/embedded/Subaru_Outback.json'\n",
        "\n",
        "with open(output_filename, 'w') as f:\n",
        "    json.dump([list(emb) for emb in embedded_test], f) \n"
      ]
    },
    {
      "cell_type": "code",
      "execution_count": 10,
      "metadata": {},
      "outputs": [],
      "source": [
        "import psycopg2"
      ]
    },
    {
      "cell_type": "code",
      "execution_count": 11,
      "metadata": {},
      "outputs": [
        {
          "data": {
            "text/plain": [
              "<function psycopg2.connect(dsn=None, connection_factory=None, cursor_factory=None, **kwargs)>"
            ]
          },
          "execution_count": 11,
          "metadata": {},
          "output_type": "execute_result"
        }
      ],
      "source": [
        "psycopg2.connect"
      ]
    },
    {
      "cell_type": "code",
      "execution_count": 13,
      "metadata": {},
      "outputs": [],
      "source": [
        "con =psycopg2.connect(\"user=postgres password=postgres host=127.0.0.1 port=64322 dbname=postgres\")\n",
        "\n"
      ]
    },
    {
      "cell_type": "code",
      "execution_count": null,
      "metadata": {},
      "outputs": [],
      "source": [
        "yearmin = 2010\n",
        "yearmax = 2013\n",
        "\n",
        "for i in split_text_with_identifier:\n",
        "    embedded_text = embed_text([i])\n",
        "    with con.cursor() as cur:\n",
        "        cur.execute(\"insert into subaru (name, yearmin, yearmax, embedding, text) values ('Legacy-Outback starter/generater', %s, %s, %s, %s)\", (yearmin, yearmax, embedded_text[0], i))\n",
        "        con.commit()\n"
      ]
    },
    {
      "cell_type": "code",
      "execution_count": 32,
      "metadata": {},
      "outputs": [],
      "source": [
        "\n",
        "def search(query, topk=3):\n",
        "    try:\n",
        "        dimensionality: Optional[int] = 256\n",
        "        model = TextEmbeddingModel.from_pretrained(\"text-embedding-004\") \n",
        "        query_embedding = model.get_embeddings([TextEmbeddingInput(query, \"RETRIEVAL_QUERY\")], output_dimensionality=dimensionality)[0].values\n",
        "        print(len(query_embedding))\n",
        "\n",
        "        with con.cursor() as cur:\n",
        "\n",
        "            cur.execute(\n",
        "                \"\"\"\n",
        "                SELECT id, name, text, 1 - (embedding <-> %s::vector(256)) AS similarity \n",
        "                FROM subaru\n",
        "                ORDER BY similarity DESC\n",
        "                LIMIT %s\n",
        "                \"\"\",\n",
        "                (query_embedding, topk)\n",
        "            )\n",
        "            results = cur.fetchall()\n",
        "    except Exception as e:\n",
        "        print(f\"Error executing query: {e}\")\n",
        "        con.rollback()\n",
        "        return []\n",
        "    else:\n",
        "        con.commit()\n",
        "    finally:\n",
        "        cur.close() \n",
        "\n",
        "    return results"
      ]
    },
    {
      "cell_type": "code",
      "execution_count": 40,
      "metadata": {},
      "outputs": [
        {
          "name": "stdout",
          "output_type": "stream",
          "text": [
            "256\n",
            "1. **Disconnect the battery.**\n",
            "2. **Remove the air intake boot.** This will involve loosening clamps and moving the boot out of the way.  The specific steps depend on your engine size (2.5L or 3.6L). Refer to the relevant images and instructions in the manual. \n",
            "3. **Disconnect the electrical connector to the starter motor.** This is usually located on the side of the starter. \n",
            "4. **Remove the starter motor mounting bolts.** There are usually two or three bolts securing the starter to the transmission bell housing. \n",
            "5. **Carefully remove the starter motor.** You may need to wiggle it slightly to disengage it from the flywheel. \n",
            "\n"
          ]
        }
      ],
      "source": [
        "from vertexai.generative_models import GenerativeModel\n",
        "\n",
        "model = GenerativeModel(model_name=\"gemini-1.5-flash-001\")\n",
        "\n",
        "vehicle_make = 'subaru'\n",
        "vehicle_model = 'outback'\n",
        "vehicle_year = '2012'\n",
        "\n",
        "def generate_response(query):\n",
        "    search_results = search(query)\n",
        "\n",
        "    prompt = f\"\"\"\n",
        "    You are an expert mechanic specializing in {vehicle_year} {vehicle_make} {vehicle_model}'s.\n",
        "\n",
        "    You have access to relevant sections from the official service manual for this vehicle. Use this information to provide a clear, concise, and accurate answer to the user's question.\n",
        "\n",
        "    **Question:** {query}\n",
        "\n",
        "    **Relevant Manual Sections:**\n",
        "    ---\n",
        "    {search_results[0][2]}\n",
        "    ---\n",
        "    {search_results[1][2]}\n",
        "    ---\n",
        "    {search_results[2][2]}\n",
        "    ---\n",
        "\n",
        "    **Important considersations**\n",
        "    - Provide a clear, concise, and accurate answer to the user's question.\n",
        "    - Exclude any irrelevant information or text formalities.\n",
        "    - Be as breif as possible without sacrificing clarity.\n",
        "    \"\"\"\n",
        "\n",
        "\n",
        "    response = model.generate_content(prompt)\n",
        "    return response.text\n",
        "\n",
        "user_question = \"what are the steps to remove the starter motor\"\n",
        "response = generate_response(user_question)\n",
        "print(response)\n"
      ]
    },
    {
      "cell_type": "code",
      "execution_count": null,
      "metadata": {},
      "outputs": [],
      "source": []
    }
  ],
  "metadata": {
    "kernelspec": {
      "display_name": ".venv",
      "language": "python",
      "name": "python3"
    },
    "language_info": {
      "codemirror_mode": {
        "name": "ipython",
        "version": 3
      },
      "file_extension": ".py",
      "mimetype": "text/x-python",
      "name": "python",
      "nbconvert_exporter": "python",
      "pygments_lexer": "ipython3",
      "version": "3.10.0"
    }
  },
  "nbformat": 4,
  "nbformat_minor": 2
}
