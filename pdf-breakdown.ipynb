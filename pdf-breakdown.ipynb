{
 "cells": [
  {
   "cell_type": "code",
   "execution_count": 1,
   "metadata": {},
   "outputs": [
    {
     "name": "stdout",
     "output_type": "stream",
     "text": [
      "env: GOOGLE_APPLICATION_CREDENTIALS=/Users/mike/.gcp-keys/pokemechs-84c9b2aac2f8.json\n"
     ]
    }
   ],
   "source": [
    "import pandas as pd\n",
    "\n",
    "%env GOOGLE_APPLICATION_CREDENTIALS=/Users/mike/.gcp-keys/pokemechs-84c9b2aac2f8.json"
   ]
  },
  {
   "cell_type": "code",
   "execution_count": 2,
   "metadata": {},
   "outputs": [],
   "source": [
    "\n",
    "from typing import List, Optional\n",
    "\n",
    "from vertexai.language_models import TextEmbeddingInput, TextEmbeddingModel\n",
    "\n"
   ]
  },
  {
   "cell_type": "code",
   "execution_count": 3,
   "metadata": {},
   "outputs": [],
   "source": [
    "def embed_text(\n",
    "    texts: List[str],\n",
    "    task: str = \"RETRIEVAL_DOCUMENT\",\n",
    "    model_name: str = \"text-embedding-004\",\n",
    "    dimensionality: Optional[int] = 256,\n",
    ") -> List[List[float]]:\n",
    "    \"\"\"Embeds texts with a pre-trained, foundational model.\"\"\"\n",
    "    model = TextEmbeddingModel.from_pretrained(model_name)\n",
    "    inputs = [TextEmbeddingInput(text, task) for text in texts]\n",
    "    kwargs = dict(output_dimensionality=dimensionality) if dimensionality else {}\n",
    "    embeddings = model.get_embeddings(inputs, **kwargs)\n",
    "    return [embedding.values for embedding in embeddings]\n"
   ]
  },
  {
   "cell_type": "code",
   "execution_count": 19,
   "metadata": {},
   "outputs": [],
   "source": [
    "\n",
    "filename = './manuals/test-embedding/FunCatFacts.md'\n",
    "with open(filename, 'r') as fd:\n",
    "    text = fd.read()\n",
    "\n",
    "\n"
   ]
  },
  {
   "cell_type": "code",
   "execution_count": 20,
   "metadata": {},
   "outputs": [],
   "source": [
    "embedded_test = embed_text([text])"
   ]
  },
  {
   "cell_type": "code",
   "execution_count": 8,
   "metadata": {},
   "outputs": [],
   "source": [
    "import psycopg2"
   ]
  },
  {
   "cell_type": "code",
   "execution_count": 9,
   "metadata": {},
   "outputs": [
    {
     "data": {
      "text/plain": [
       "<function psycopg2.connect(dsn=None, connection_factory=None, cursor_factory=None, **kwargs)>"
      ]
     },
     "execution_count": 9,
     "metadata": {},
     "output_type": "execute_result"
    }
   ],
   "source": [
    "psycopg2.connect"
   ]
  },
  {
   "cell_type": "code",
   "execution_count": 10,
   "metadata": {},
   "outputs": [],
   "source": [
    "con =psycopg2.connect(\"user=postgres password=postgres host=127.0.0.1 port=64322 dbname=postgres\")\n",
    "\n"
   ]
  },
  {
   "cell_type": "code",
   "execution_count": 22,
   "metadata": {},
   "outputs": [],
   "source": [
    "yearmin = 2010\n",
    "yearmax = 2013\n",
    "with con.cursor() as cur:\n",
    "    cur.execute(\"insert into subaru (name, yearmin, yearmax, embedding, text) values ('Cat', %s, %s, %s, %s)\", (yearmin, yearmax, embedded_test[0], text))\n",
    "    con.commit()\n"
   ]
  },
  {
   "cell_type": "code",
   "execution_count": 56,
   "metadata": {},
   "outputs": [],
   "source": [
    "\n",
    "def search(query, topk=3):\n",
    "    try:\n",
    "        dimensionality: Optional[int] = 256\n",
    "        model = TextEmbeddingModel.from_pretrained(\"text-embedding-004\") \n",
    "        query_embedding = model.get_embeddings([TextEmbeddingInput(query, \"RETRIEVAL_QUERY\")], output_dimensionality=dimensionality)[0].values\n",
    "        print(len(query_embedding))\n",
    "\n",
    "        with con.cursor() as cur:\n",
    "\n",
    "            cur.execute(\n",
    "                \"\"\"\n",
    "                SELECT name, text, 1 - (embedding <-> %s::vector(256)) AS similarity \n",
    "                FROM subaru\n",
    "                ORDER BY similarity DESC\n",
    "                LIMIT %s\n",
    "                \"\"\",\n",
    "                (query_embedding, topk)\n",
    "            )\n",
    "            results = cur.fetchall()\n",
    "    except Exception as e:\n",
    "        print(f\"Error executing query: {e}\")\n",
    "        con.rollback()\n",
    "        return []\n",
    "    else:\n",
    "        con.commit()\n",
    "    finally:\n",
    "        cur.close() \n",
    "\n",
    "    return results"
   ]
  },
  {
   "cell_type": "code",
   "execution_count": null,
   "metadata": {},
   "outputs": [],
   "source": [
    "search_results = search(\"do cats purr\")\n",
    "for result in search_results:\n",
    "    print(f\"Name: {result[0]}, Similarity: {result[2]}\\nText: {result[1]}\\n---\")"
   ]
  }
 ],
 "metadata": {
  "kernelspec": {
   "display_name": ".venv",
   "language": "python",
   "name": "python3"
  },
  "language_info": {
   "codemirror_mode": {
    "name": "ipython",
    "version": 3
   },
   "file_extension": ".py",
   "mimetype": "text/x-python",
   "name": "python",
   "nbconvert_exporter": "python",
   "pygments_lexer": "ipython3",
   "version": "3.10.0"
  }
 },
 "nbformat": 4,
 "nbformat_minor": 2
}
