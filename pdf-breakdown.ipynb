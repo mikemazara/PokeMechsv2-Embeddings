{
 "cells": [
  {
   "cell_type": "code",
   "execution_count": 1,
   "metadata": {},
   "outputs": [
    {
     "name": "stdout",
     "output_type": "stream",
     "text": [
      "env: GOOGLE_APPLICATION_CREDENTIALS=/Users/mike/.gcp-keys/pokemechs-84c9b2aac2f8.json\n"
     ]
    }
   ],
   "source": [
    "import pandas as pd\n",
    "\n",
    "%env GOOGLE_APPLICATION_CREDENTIALS=/Users/mike/.gcp-keys/pokemechs-84c9b2aac2f8.json"
   ]
  },
  {
   "cell_type": "code",
   "execution_count": 2,
   "metadata": {},
   "outputs": [],
   "source": [
    "\n",
    "from typing import List, Optional\n",
    "\n",
    "from vertexai.language_models import TextEmbeddingInput, TextEmbeddingModel\n",
    "\n"
   ]
  },
  {
   "cell_type": "code",
   "execution_count": 3,
   "metadata": {},
   "outputs": [],
   "source": [
    "def embed_text(\n",
    "    texts: List[str],\n",
    "    task: str = \"RETRIEVAL_DOCUMENT\",\n",
    "    model_name: str = \"text-embedding-004\",\n",
    "    dimensionality: Optional[int] = 256,\n",
    ") -> List[List[float]]:\n",
    "    \"\"\"Embeds texts with a pre-trained, foundational model.\"\"\"\n",
    "    model = TextEmbeddingModel.from_pretrained(model_name)\n",
    "    inputs = [TextEmbeddingInput(text, task) for text in texts]\n",
    "    kwargs = dict(output_dimensionality=dimensionality) if dimensionality else {}\n",
    "    embeddings = model.get_embeddings(inputs, **kwargs)\n",
    "    return [embedding.values for embedding in embeddings]\n"
   ]
  },
  {
   "cell_type": "code",
   "execution_count": 19,
   "metadata": {},
   "outputs": [],
   "source": [
    "\n",
    "filename = './manuals/test-embedding/FunCatFacts.md'\n",
    "with open(filename, 'r') as fd:\n",
    "    text = fd.read()\n",
    "\n",
    "\n"
   ]
  },
  {
   "cell_type": "code",
   "execution_count": 20,
   "metadata": {},
   "outputs": [],
   "source": [
    "embedded_test = embed_text([text])"
   ]
  },
  {
   "cell_type": "code",
   "execution_count": 21,
   "metadata": {},
   "outputs": [],
   "source": [
    "import json\n",
    "\n",
    "\n",
    "output_filename = './manuals/embedded/cat_test_embeddings.json'\n",
    "\n",
    "with open(output_filename, 'w') as f:\n",
    "    json.dump([list(emb) for emb in embedded_test], f) \n"
   ]
  },
  {
   "cell_type": "code",
   "execution_count": null,
   "metadata": {},
   "outputs": [],
   "source": []
  },
  {
   "cell_type": "code",
   "execution_count": 8,
   "metadata": {},
   "outputs": [],
   "source": [
    "import psycopg2"
   ]
  },
  {
   "cell_type": "code",
   "execution_count": 9,
   "metadata": {},
   "outputs": [
    {
     "data": {
      "text/plain": [
       "<function psycopg2.connect(dsn=None, connection_factory=None, cursor_factory=None, **kwargs)>"
      ]
     },
     "execution_count": 9,
     "metadata": {},
     "output_type": "execute_result"
    }
   ],
   "source": [
    "psycopg2.connect"
   ]
  },
  {
   "cell_type": "code",
   "execution_count": 10,
   "metadata": {},
   "outputs": [],
   "source": [
    "con =psycopg2.connect(\"user=postgres password=postgres host=127.0.0.1 port=64322 dbname=postgres\")\n",
    "\n"
   ]
  },
  {
   "cell_type": "code",
   "execution_count": 22,
   "metadata": {},
   "outputs": [],
   "source": [
    "yearmin = 2010\n",
    "yearmax = 2013\n",
    "with con.cursor() as cur:\n",
    "    cur.execute(\"insert into subaru (name, yearmin, yearmax, embedding, text) values ('Cat', %s, %s, %s, %s)\", (yearmin, yearmax, embedded_test[0], text))\n",
    "    con.commit()\n"
   ]
  },
  {
   "cell_type": "code",
   "execution_count": 56,
   "metadata": {},
   "outputs": [],
   "source": [
    "\n",
    "def search(query, topk=3):\n",
    "    try:\n",
    "        dimensionality: Optional[int] = 256\n",
    "        model = TextEmbeddingModel.from_pretrained(\"text-embedding-004\") \n",
    "        query_embedding = model.get_embeddings([TextEmbeddingInput(query, \"RETRIEVAL_QUERY\")], output_dimensionality=dimensionality)[0].values\n",
    "        print(len(query_embedding))\n",
    "\n",
    "        with con.cursor() as cur:\n",
    "\n",
    "            cur.execute(\n",
    "                \"\"\"\n",
    "                SELECT name, text, 1 - (embedding <-> %s::vector(256)) AS similarity \n",
    "                FROM subaru\n",
    "                ORDER BY similarity DESC\n",
    "                LIMIT %s\n",
    "                \"\"\",\n",
    "                (query_embedding, topk)\n",
    "            )\n",
    "            results = cur.fetchall()\n",
    "    except Exception as e:\n",
    "        print(f\"Error executing query: {e}\")\n",
    "        con.rollback()\n",
    "        return []\n",
    "    else:\n",
    "        con.commit()\n",
    "    finally:\n",
    "        cur.close() \n",
    "\n",
    "    return results"
   ]
  },
  {
   "cell_type": "code",
   "execution_count": 59,
   "metadata": {},
   "outputs": [
    {
     "name": "stdout",
     "output_type": "stream",
     "text": [
      "256\n",
      "Name: Cat, Similarity: 0.521347812754258\n",
      "Text: # Fun Cat **Facts:**\n",
      "\n",
      "## Physical Traits:\n",
      "\n",
      "1. **Purring Power:** A cat's purr vibrates at a frequency between 25 and 150 Hertz, which is thought to have healing properties for both cats and humans.\n",
      "\n",
      "2. **Super Flexible:** Cats have 32 muscles in each of their ears, allowing them to rotate them 180 degrees.\n",
      "\n",
      "3. **Retractable Claws:** Cats can retract their claws to keep them sharp and prevent wear and tear.\n",
      "\n",
      "4. **Night Vision:** Cats have excellent night vision, thanks to a special membrane in their eyes that reflects light.\n",
      "\n",
      "5. **Whiskers for Navigation:** Whiskers help cats judge whether they can fit through narrow spaces and detect changes in air currents, aiding in hunting and navigation.\n",
      "\n",
      "Behavior:\n",
      "6. **The Righting Reflex:** Cats can twist their bodies mid-air to land on their feet, thanks to an impressive righting reflex.\n",
      "\n",
      "7. **The Flehmen Response:** That funny grimace cats make when they smell something interesting is called the flehmen response. It helps them transfer scent molecules to a special organ on the roof of their mouths.\n",
      "\n",
      "8. **Kneading:** The kneading motion cats make with their paws is a leftover behavior from kittenhood, when they knead their mothers to stimulate milk flow.\n",
      "\n",
      "9. **Chatter:** The rapid chattering sound cats make when they see birds or prey is thought to be an expression of excitement or frustration.\n",
      "\n",
      "10. **Tail Talk:** A cat's tail is a great indicator of its mood. A high, upright tail usually means a happy cat, while a twitching tail can signal agitation.\n",
      "\n",
      "History and Culture:\n",
      "11. **Ancient Egyptians:** Cats were revered in ancient Egypt and were even mummified and buried with their owners.\n",
      "\n",
      "12. **Ship Cats:** Cats were often kept on ships to control rodents and were considered good luck charms by sailors.\n",
      "\n",
      "13. **Famous Cat Lovers:** Many historical figures were cat lovers, including Ernest Hemingway, Florence Nightingale, and Mark Twain.\n",
      "\n",
      "14. **Cat Cafés:** The first cat café opened in Taiwan in 1998, and the concept has since become popular worldwide.\n",
      "\n",
      "15. **Internet Sensation:** Cats are internet royalty, with countless memes, videos, and social media accounts dedicated to them.\n",
      "\n",
      "Unique Abilities:\n",
      "16. **High Jumpers:** Cats can jump up to six times their height. 17. **Fast Runners:** Some cat breeds can run up to 30 miles per hour in short bursts. 18. **Super Smellers:** Cats have an olfactory organ that humans lack, allowing them to detect scents we can't.\n",
      "\n",
      "19. **Taste Buds for Water:** Cats have special taste buds on the roof of their mouths that allow them to taste water.\n",
      "\n",
      "20. **Purring Therapy:** Studies have shown that the frequency of a cat's purr can help lower blood pressure and reduce stress in humans.\n",
      "---\n",
      "Name: Dog, Similarity: 0.332557841174606\n",
      "Text: # Fun Dog **Facts:**\n",
      "\n",
      "## Labrador Retriever\n",
      "\n",
      "1. Labradors were originally bred to retrieve fishing nets and pull small boats ashore. 2. They have webbed feet for swimming, making them excellent water retrievers. 3. They're often used as service dogs due to their intelligence, trainability, and gentle nature.\n",
      "\n",
      "Golden Retriever 4. Goldens were bred for hunting and retrieving game birds, hence their soft mouths that won't damage what they carry.\n",
      "\n",
      "5. They have a love for water and are natural swimmers. 6. They're known for their friendly and patient personalities, making them great family dogs.\n",
      "\n",
      "German Shepherd 7. German Shepherds are highly intelligent and versatile, often used as police, military, and search-and-rescue dogs.\n",
      "\n",
      "8. They have a strong herding instinct, even though they weren't originally bred for it. 9. Their distinctive ears are designed to capture sound, making them excellent watchdogs.\n",
      "\n",
      "Poodle 10. Poodles are actually water retrievers and were originally bred for duck hunting. 11. Their fancy haircuts were designed to keep them warm in cold water while allowing freedom of movement.\n",
      "\n",
      "12. They're among the most intelligent dog breeds and excel in various dog sports.\n",
      "\n",
      "Beagle 13. Beagles have an exceptional sense of smell and were bred for tracking small game like rabbits and hares.\n",
      "\n",
      "14. Their long ears help trap scent particles, leading them closer to their quarry. 15. The name \"Beagle\" is believed to come from the French word \"be'geule,\" meaning open throat, referring to their howls.\n",
      "\n",
      "Chihuahua 16. Chihuahuas are the smallest dog breed, named after the state of Chihuahua in Mexico. 17. They have a surprisingly long lifespan, often living 14 to 16 years or more. 18. Despite their small size, they have a big personality and are known for their loyalty to their owners.\n",
      "\n",
      "## Bulldog\n",
      "\n",
      "19. Bulldogs were originally bred for bull-baiting, a now-outlawed blood sport. 20. Their wrinkled face is a result of selective breeding to make them better at gripping and holding onto bulls.\n",
      "\n",
      "21. They're now known for their gentle and playful nature, making them great companions.\n",
      "---\n",
      "Name: test, Similarity: 0.242060052636116\n",
      "Text: \n",
      "## Foreword 1. A:  Foreword\n",
      "\n",
      "These manuals are used when performing mainte-nance, repair or diagnosis of Subaru LEGACY & LEGACY OUTBACK.\n",
      "\n",
      "Applicable model:\n",
      "2010 2011 2012 2013 The manuals contain the latest information at the time of publication. Changes in the specifications, methods, etc. may be made without notice.\n",
      "\n",
      "Page\n",
      "\n",
      "![1_image_0.png](1_image_0.png)\n",
      "\n",
      "1.     How to Use This Manuals  \n",
      "\n",
      "## 1.  How To Use This Manuals A:  How To Use This Manuals 1. Structure\n",
      "\n",
      "Each section consists of SCT that are broken down into SC that are divided into sections for each component. The specification, maintenance and other information for the components are included, and the diagnostic information has also been added where necessary.\n",
      "\n",
      "## 2.  Contents\n",
      "\n",
      "The first page has an index with tabs.\n",
      "\n",
      "## 3.  Component\n",
      "\n",
      "Illustrations are provided for each component. The information necessary for repair work (tightening torque, grease up points, etc.) is described on these illustrations. Information is described using symbol.\n",
      "\n",
      "To order parts, refer to parts catalogue.\n",
      "\n",
      "![3_image_0.png](3_image_0.png)\n",
      "\n",
      "## 4.  Definition Of \"Note\", \"Caution\" And \"Warning\"\n",
      "\n",
      "- NOTE:\n",
      "Describes supplementary explanations for efficient operation.\n",
      "\n",
      "- CAUTION:\n",
      "Describes particular items to be followed and items to be prohibited to avoid vehicle or parts damage.\n",
      "\n",
      "- WARNING:\n",
      "Describes items to be strictly prohibited to avoid serious injury to the person doing the work or people in the area, and items to be strictly followed to avoid any deficiency or accident.\n",
      "\n",
      "## 5.  Specification\n",
      "\n",
      "If necessary, specifications are also included.\n",
      "\n",
      "## 6. Inspection\n",
      "\n",
      "Inspections to be carried out before and after maintenance are included.\n",
      "---\n"
     ]
    }
   ],
   "source": [
    "search_results = search(\"do cats purr\")\n",
    "for result in search_results:\n",
    "    print(f\"Name: {result[0]}, Similarity: {result[2]}\\nText: {result[1]}\\n---\")"
   ]
  }
 ],
 "metadata": {
  "kernelspec": {
   "display_name": ".venv",
   "language": "python",
   "name": "python3"
  },
  "language_info": {
   "codemirror_mode": {
    "name": "ipython",
    "version": 3
   },
   "file_extension": ".py",
   "mimetype": "text/x-python",
   "name": "python",
   "nbconvert_exporter": "python",
   "pygments_lexer": "ipython3",
   "version": "3.10.0"
  }
 },
 "nbformat": 4,
 "nbformat_minor": 2
}
